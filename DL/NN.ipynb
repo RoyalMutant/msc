{
 "cells": [
  {
   "cell_type": "code",
   "execution_count": 7,
   "id": "8346f211-fad4-4b64-9790-6b76941c1efe",
   "metadata": {},
   "outputs": [],
   "source": [
    "# 1. Activations and Derivatives"
   ]
  },
  {
   "cell_type": "code",
   "execution_count": 23,
   "id": "453c9382-606e-4537-b9d8-07d4b27f1e8e",
   "metadata": {},
   "outputs": [],
   "source": [
    "import numpy as np\n",
    "\n",
    "def relu(x):\n",
    "    return np.maximum(0, x)\n",
    "\n",
    "def relu_derivative(x):\n",
    "    return np.where(x > 0, 1.0, 0.0)\n",
    "\n",
    "def sigmoid(x):\n",
    "    return 1 / (1 + np.exp(-x))\n",
    "\n",
    "def sigmoid_derivative(x):\n",
    "    s = sigmoid(x)\n",
    "    return s * (1 - s)"
   ]
  },
  {
   "cell_type": "code",
   "execution_count": 8,
   "id": "340fe8a6-7993-4890-ab17-5a4c1fb8e9a8",
   "metadata": {},
   "outputs": [],
   "source": [
    "# 2. Loss Function"
   ]
  },
  {
   "cell_type": "code",
   "execution_count": 24,
   "id": "222f0b92-570e-4bf9-97ae-6d6edbcbc463",
   "metadata": {},
   "outputs": [],
   "source": [
    "def binary_cross_entropy(y_true, y_pred):\n",
    "    epsilon = 1e-8\n",
    "    return -np.mean(y_true * np.log(y_pred + epsilon) + (1 - y_true) * np.log(1 - y_pred + epsilon))"
   ]
  },
  {
   "cell_type": "code",
   "execution_count": 9,
   "id": "a12544bf-d8b0-4166-a0f8-41675baf4a98",
   "metadata": {},
   "outputs": [],
   "source": [
    "# 3. Forward Pass"
   ]
  },
  {
   "cell_type": "code",
   "execution_count": 25,
   "id": "6fd209bb-5749-40c8-b958-7a54852f0323",
   "metadata": {},
   "outputs": [],
   "source": [
    "def forward(W1, W2, W3, b1, b2, b3, X):\n",
    "    Z1 = np.dot(W1, X) + b1\n",
    "    A1 = relu(Z1)\n",
    "\n",
    "    Z2 = np.dot(W2, A1) + b2\n",
    "    A2 = relu(Z2)\n",
    "\n",
    "    Z3 = np.dot(W3, A2) + b3\n",
    "    A3 = sigmoid(Z3)\n",
    "\n",
    "    return A1, A2, A3, Z1, Z2, Z3"
   ]
  },
  {
   "cell_type": "code",
   "execution_count": 11,
   "id": "b03cd879-1174-438a-91a3-1b770cec96fa",
   "metadata": {},
   "outputs": [],
   "source": [
    "# 4. Backward Pass"
   ]
  },
  {
   "cell_type": "code",
   "execution_count": 26,
   "id": "9af09cd7-3fdf-4721-b6e9-a5dee5e376e9",
   "metadata": {},
   "outputs": [],
   "source": [
    "def back_prop(X, Y, Z1, A1, Z2, A2, Z3, A3, W2, W3):\n",
    "    m = X.shape[1]\n",
    "\n",
    "    dZ3 = A3 - Y\n",
    "    dW3 = np.dot(dZ3, A2.T) / m\n",
    "    db3 = np.sum(dZ3) / m\n",
    "\n",
    "    dZ2 = np.dot(W3.T, dZ3) * relu_derivative(Z2)\n",
    "    dW2 = np.dot(dZ2, A1.T) / m\n",
    "    db2 = np.sum(dZ2) / m\n",
    "\n",
    "    dZ1 = np.dot(W2.T, dZ2) * relu_derivative(Z1)\n",
    "    dW1 = np.dot(dZ1, X.T) / m\n",
    "    db1 = np.sum(dZ1) / m\n",
    "\n",
    "    return dW1, db1, dW2, db2, dW3, db3"
   ]
  },
  {
   "cell_type": "code",
   "execution_count": 13,
   "id": "51c90788-c3e7-4a09-b706-66832285e5bb",
   "metadata": {},
   "outputs": [],
   "source": [
    "# 5. Training Loop"
   ]
  },
  {
   "cell_type": "code",
   "execution_count": 27,
   "id": "006b2cc3-cfa4-463d-bf6e-6b5348eb2e4e",
   "metadata": {},
   "outputs": [],
   "source": [
    "def train(X, Y, epochs=1000, learning_rate=0.01):\n",
    "    np.random.seed(0)\n",
    "    W1 = np.random.randn(4, X.shape[0])\n",
    "    b1 = np.random.randn(4, 1)\n",
    "    W2 = np.random.randn(3, 4)\n",
    "    b2 = np.random.randn(3, 1)\n",
    "    W3 = np.random.randn(1, 3)\n",
    "    b3 = np.random.randn(1, 1)\n",
    "\n",
    "    for epoch in range(epochs):\n",
    "        A1, A2, A3, Z1, Z2, Z3 = forward(W1, W2, W3, b1, b2, b3, X)\n",
    "        loss = binary_cross_entropy(Y, A3)\n",
    "\n",
    "        dW1, db1, dW2, db2, dW3, db3 = back_prop(X, Y, Z1, A1, Z2, A2, Z3, A3, W2, W3)\n",
    "\n",
    "        W1 -= learning_rate * dW1\n",
    "        b1 -= learning_rate * db1\n",
    "        W2 -= learning_rate * dW2\n",
    "        b2 -= learning_rate * db2\n",
    "        W3 -= learning_rate * dW3\n",
    "        b3 -= learning_rate * db3\n",
    "\n",
    "        if epoch % 100 == 0 or epoch == epochs - 1:\n",
    "            print(f\"Epoch {epoch}, Loss: {loss:.4f}\")\n",
    "\n",
    "    return W1, b1, W2, b2, W3, b3"
   ]
  },
  {
   "cell_type": "code",
   "execution_count": 15,
   "id": "1dc7d38c-6405-4d42-a4fd-2bc00cc0cfd6",
   "metadata": {},
   "outputs": [],
   "source": [
    "# 6. Main Script"
   ]
  },
  {
   "cell_type": "code",
   "execution_count": 29,
   "id": "9985666f-6574-4c74-9fc9-3bf092506fba",
   "metadata": {},
   "outputs": [
    {
     "name": "stdout",
     "output_type": "stream",
     "text": [
      "Epoch 0, Loss: 6.1254\n",
      "Epoch 100, Loss: 0.0381\n",
      "Epoch 200, Loss: 0.0148\n",
      "Epoch 300, Loss: 0.0085\n",
      "Epoch 400, Loss: 0.0058\n",
      "Epoch 500, Loss: 0.0043\n",
      "Epoch 600, Loss: 0.0034\n",
      "Epoch 700, Loss: 0.0028\n",
      "Epoch 800, Loss: 0.0023\n",
      "Epoch 900, Loss: 0.0020\n",
      "Epoch 999, Loss: 0.0017\n"
     ]
    }
   ],
   "source": [
    "X = np.random.randn(3, 1)\n",
    "Y = np.array([[1]])\n",
    "\n",
    "trained_params = train(X, Y)"
   ]
  },
  {
   "cell_type": "code",
   "execution_count": null,
   "id": "bec3768c-9622-4ffa-8855-ec8b72c86c3d",
   "metadata": {},
   "outputs": [],
   "source": []
  }
 ],
 "metadata": {
  "kernelspec": {
   "display_name": "Python 3 (ipykernel)",
   "language": "python",
   "name": "python3"
  },
  "language_info": {
   "codemirror_mode": {
    "name": "ipython",
    "version": 3
   },
   "file_extension": ".py",
   "mimetype": "text/x-python",
   "name": "python",
   "nbconvert_exporter": "python",
   "pygments_lexer": "ipython3",
   "version": "3.12.7"
  }
 },
 "nbformat": 4,
 "nbformat_minor": 5
}
